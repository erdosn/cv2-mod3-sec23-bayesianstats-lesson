{
 "cells": [
  {
   "cell_type": "markdown",
   "metadata": {},
   "source": [
    "### Questions\n",
    "* How is the train test split supposed to work?\n",
    "* Are you supposed to ignore the target completely in a train test split?\n",
    "* when calculating the mean & standard deviation  (using .groupby and .agg), are we really supposed to use the entire dataset instead of the training dataset"
   ]
  },
  {
   "cell_type": "markdown",
   "metadata": {},
   "source": [
    "### Objectives\n",
    "YWBAT\n",
    "* Describe how Naive Bayes is used to classify\n",
    "* Describe BOW in document classification"
   ]
  },
  {
   "cell_type": "markdown",
   "metadata": {},
   "source": [
    "### Outline\n",
    "* Questions\n",
    "* Going over the last 2 labs from section 23\n",
    "* Discuss the purpose of NB in ML and how it's used and when it's used"
   ]
  },
  {
   "cell_type": "markdown",
   "metadata": {},
   "source": [
    "### Naive Bayes\n",
    "* What the purpose of NB?\n",
    "    * To classify data into classes/groups\n",
    "\n",
    "* How does it classify?\n",
    "    * Checks the probability for each class P(class | row)\n",
    "    * Bayes Theorem is (P(class | row) = P(class) * P(row | class)) / P(row)\n",
    "    * Relies on the assumption that distributions are identical\n",
    "        * Probabilities can be set the same\n",
    "        * Need mu and std which comes from sample with that class\n",
    "        * what is the sample though?\n",
    "        * sample = training set\n",
    "    * In Naive Bayes why are these probabilities so low?\n",
    "        * Not really why, but, Because we dropped the denominator\n",
    "        * It's because we're multiplying small probabilities"
   ]
  },
  {
   "cell_type": "code",
   "execution_count": 1,
   "metadata": {},
   "outputs": [],
   "source": [
    "import pandas as pd\n",
    "import numpy as np\n",
    "\n",
    "import matplotlib.pyplot as plt"
   ]
  },
  {
   "cell_type": "markdown",
   "metadata": {},
   "source": [
    "### Assessing Classifier\n",
    "- Train and Test accuracies should be equal (ideally)\n",
    "\n",
    "\n",
    "**How do you avoid training a model that is overfitted because of a bad train/test split?**\n",
    "- KFolds cross Validation"
   ]
  },
  {
   "cell_type": "markdown",
   "metadata": {},
   "source": [
    "Parametric Models\n",
    "- Linear Regression\n",
    "    - What are the parameters? \n",
    "        * Beta coefficients \n",
    "\n",
    "- Naive Bayes\n",
    "    - Where 'theta' is the parameter"
   ]
  },
  {
   "cell_type": "markdown",
   "metadata": {},
   "source": [
    "When do we use NB?\n",
    "- NLP\n",
    "    - Text classification\n",
    "    - Document classification\n",
    "    - Maybe sentiment - unsolved problem\n",
    "    \n",
    "    \n",
    "What is NLP?\n",
    "- Field of Data Science that analyzes and measures various aspects of natural language\n",
    "- Word Counts\n",
    "- Word Importance\n",
    "- Word Density (Word Frequency / Words in Doc)\n",
    "- tfidf - looks at word importance over several documents\n",
    "    - common words -> 0\n",
    "    - rare/topical words don't go to zero\n",
    " - Word Vectorization\n",
    " - Document Vectorization\n",
    " - Sentence Vectorization\n",
    " - Classify words, docs, sentences based on vectorizations"
   ]
  },
  {
   "cell_type": "markdown",
   "metadata": {},
   "source": [
    "### Assessment\n",
    "* More about NLP - Mapping sentences to vectors using BOW\n",
    "* Computing probabilities based on training distributions\n",
    "* General information about NB and NLP"
   ]
  }
 ],
 "metadata": {
  "kernelspec": {
   "display_name": "Python 3",
   "language": "python",
   "name": "python3"
  },
  "language_info": {
   "codemirror_mode": {
    "name": "ipython",
    "version": 3
   },
   "file_extension": ".py",
   "mimetype": "text/x-python",
   "name": "python",
   "nbconvert_exporter": "python",
   "pygments_lexer": "ipython3",
   "version": "3.7.3"
  }
 },
 "nbformat": 4,
 "nbformat_minor": 2
}
